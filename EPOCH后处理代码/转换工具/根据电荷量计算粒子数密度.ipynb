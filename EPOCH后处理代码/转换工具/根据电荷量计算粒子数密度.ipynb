{
 "cells": [
  {
   "cell_type": "code",
   "execution_count": 37,
   "id": "243a4597",
   "metadata": {},
   "outputs": [
    {
     "name": "stdout",
     "output_type": "stream",
     "text": [
      "二维数密度：2.172e+17 electrons/m²\n"
     ]
    }
   ],
   "source": [
    "import numpy as np\n",
    "import matplotlib.pyplot as plt\n",
    "\n",
    "# 参数\n",
    "e = 1.602e-19        # 单位：C\n",
    "Q = 1e-12            # 单位：C，1 pC\n",
    "N = Q / e            # 总电子数\n",
    "y_fwhm = 3e-6        # 横向宽度（FWHM）\n",
    "z_length = 9e-6      # 束长（纵向长度）\n",
    "\n",
    "# 高斯分布\n",
    "def gauss(x, x0, w):\n",
    "    return np.exp(-((x - x0)**2) / w**2)\n",
    "\n",
    "# FWHM -> sigma\n",
    "sigma = y_fwhm / (2 * np.sqrt(np.log(2)))\n",
    "\n",
    "# 计算 y 方向分布\n",
    "x = np.linspace(0, 10e-6, 1000)\n",
    "y = gauss(x, 5e-6, sigma)\n",
    "\n",
    "# 积分计算归一化因子\n",
    "dx = x[1] - x[0]\n",
    "c = np.sum(y * dx)  # 积分结果\n",
    "\n",
    "# 计算二维数密度（单位面积上的电子数）\n",
    "n_2d = N / (c * z_length)\n",
    "print(f\"二维数密度：{n_2d:.3e} electrons/m²\")\n"
   ]
  }
 ],
 "metadata": {
  "kernelspec": {
   "display_name": "base",
   "language": "python",
   "name": "python3"
  },
  "language_info": {
   "codemirror_mode": {
    "name": "ipython",
    "version": 3
   },
   "file_extension": ".py",
   "mimetype": "text/x-python",
   "name": "python",
   "nbconvert_exporter": "python",
   "pygments_lexer": "ipython3",
   "version": "3.12.3"
  }
 },
 "nbformat": 4,
 "nbformat_minor": 5
}
