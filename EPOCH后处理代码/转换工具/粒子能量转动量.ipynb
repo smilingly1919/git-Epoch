{
 "cells": [
  {
   "cell_type": "code",
   "execution_count": 4,
   "id": "78e673f8",
   "metadata": {},
   "outputs": [
    {
     "name": "stdout",
     "output_type": "stream",
     "text": [
      "电子的动量 p = 2.67e-18 kg·m/s\n"
     ]
    }
   ],
   "source": [
    "import math\n",
    "\n",
    "# 定义常量\n",
    "me = 9.1e-31   #kg\n",
    "c = 3e8        # 光速\n",
    "eV_to_J = 1.602e-19  \n",
    "\n",
    "# 输入电子能量\n",
    "E_MeV = 5000  \n",
    "\n",
    "E_J = E_MeV * 1e6 * eV_to_J \n",
    "\n",
    "me2_c4 = (me ** 2) * (c ** 4)\n",
    "\n",
    "E2 = E_J ** 2\n",
    "\n",
    "p = math.sqrt(E2 - me2_c4) / c\n",
    "\n",
    "print(f\"电子的动量 p = {p:.2e} kg·m/s\")"
   ]
  },
  {
   "cell_type": "code",
   "execution_count": 7,
   "id": "842d0b80",
   "metadata": {},
   "outputs": [
    {
     "name": "stdout",
     "output_type": "stream",
     "text": [
      "激光强度 I = 5.00e+22 W/cm^2, 波长 λ = 1 μm\n",
      "计算得到的归一化振幅 a0 = 191.631\n",
      "由 a0 反推的激光强度 I = 5.03e+22 W/cm^2\n"
     ]
    }
   ],
   "source": [
    "import math\n",
    "\n",
    "def intensity_to_a0(I_W_cm2, lambda_um):\n",
    "    \"\"\"\n",
    "    根据激光强度和波长计算归一化振幅 a0。\n",
    "    参数：\n",
    "        I_W_cm2: 激光强度，单位 W/cm^2\n",
    "        lambda_um: 波长，单位 μm\n",
    "    返回：\n",
    "        a0: 归一化振幅（无量纲）\n",
    "    \"\"\"\n",
    "    a0 = 8.57e-10 * math.sqrt(I_W_cm2) * lambda_um\n",
    "    return a0\n",
    "\n",
    "def a0_to_intensity(a0, lambda_um):\n",
    "    \"\"\"\n",
    "    根据归一化振幅和波长计算激光强度。\n",
    "    参数：\n",
    "        a0: 归一化振幅（无量纲）\n",
    "        lambda_um: 波长，单位 μm\n",
    "    返回：\n",
    "        I_W_cm2: 激光强度，单位 W/cm^2\n",
    "    \"\"\"\n",
    "    I_W_cm2 = (a0**2 * 1.37e18) / (lambda_um**2)\n",
    "    return I_W_cm2\n",
    "\n",
    "# 示例\n",
    "if __name__ == \"__main__\":\n",
    "    lambda_um = 1  # 例如 Ti:sapphire 激光\n",
    "    I = 5e22  # W/cm^2\n",
    "\n",
    "    a0 = intensity_to_a0(I, lambda_um)\n",
    "    I_back = a0_to_intensity(a0, lambda_um)\n",
    "\n",
    "    print(f\"激光强度 I = {I:.2e} W/cm^2, 波长 λ = {lambda_um} μm\")\n",
    "    print(f\"计算得到的归一化振幅 a0 = {a0:.3f}\")\n",
    "    print(f\"由 a0 反推的激光强度 I = {I_back:.2e} W/cm^2\")\n"
   ]
  },
  {
   "attachments": {
    "image.png": {
     "image/png": "[encoded data removed]"
    }
   },
   "cell_type": "markdown",
   "id": "3f3caee0",
   "metadata": {},
   "source": [
    "![image.png](attachment:image.png)"
   ]
  }
 ],
 "metadata": {
  "kernelspec": {
   "display_name": "base",
   "language": "python",
   "name": "python3"
  },
  "language_info": {
   "codemirror_mode": {
    "name": "ipython",
    "version": 3
   },
   "file_extension": ".py",
   "mimetype": "text/x-python",
   "name": "python",
   "nbconvert_exporter": "python",
   "pygments_lexer": "ipython3",
   "version": "3.12.3"
  }
 },
 "nbformat": 4,
 "nbformat_minor": 5
}
