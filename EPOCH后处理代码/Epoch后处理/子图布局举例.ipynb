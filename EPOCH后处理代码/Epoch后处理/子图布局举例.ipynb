{
 "cells": [
  {
   "cell_type": "code",
   "execution_count": null,
   "id": "7102536e",
   "metadata": {},
   "outputs": [],
   "source": [
    "import matplotlib.pyplot as plt\n",
    "import numpy as np\n",
    "\n",
    "# 假数据\n",
    "x = np.linspace(0, 10, 100)\n",
    "y = np.linspace(0, 5, 50)\n",
    "ne = np.random.rand(100, 50)\n",
    "\n",
    "# 创建2行2列子图布局\n",
    "fig, axes = plt.subplots(2, 2, figsize=(12, 10))\n",
    "\n",
    "# 给每个子图绘图\n",
    "plot_xy_slice(ne, x, y, ax=axes[0, 0])\n",
    "plot_xy_slice(ne, x, y, ax=axes[0, 1])\n",
    "plot_xy_slice(ne, x, y, ax=axes[1, 0])\n",
    "plot_xy_slice(ne, x, y, ax=axes[1, 1])\n",
    "\n",
    "# 微调某个子图，比如右下角那个字体和颜色\n",
    "axes[1, 1].set_title(axes[1, 1].get_title(), fontsize=16, color='purple')\n",
    "\n",
    "plt.tight_layout()\n",
    "plt.show()"
   ]
  },
  {
   "cell_type": "code",
   "execution_count": null,
   "id": "7597d238",
   "metadata": {},
   "outputs": [],
   "source": [
    "# 2. 指定保存路径、文件名、格式和分辨率\n",
    "save_path = \"C:/path/to/your/directory/figure_name.eps\"  # 修改为你的路径和文件名\n",
    "plt.savefig(save_path, format='eps', dpi=300)  # dpi 设置分辨率"
   ]
  }
 ],
 "metadata": {
  "language_info": {
   "name": "python"
  }
 },
 "nbformat": 4,
 "nbformat_minor": 5
}
